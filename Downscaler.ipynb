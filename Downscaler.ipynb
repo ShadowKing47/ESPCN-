{
 "cells": [
  {
   "cell_type": "code",
   "execution_count": null,
   "metadata": {},
   "outputs": [],
   "source": [
    "import tensorflow as tf\n",
    "import numpy as np\n",
    "\n",
    "def downscale_image(image, target_size):\n",
    "    # Normalize the image to [0, 1]\n",
    "    img_tensor = tf.cast(image, tf.float32) / 255.0\n",
    "    \n",
    "    # Resize using the 'area' method\n",
    "    img_resized = tf.image.resize(img_tensor, target_size, method='area')\n",
    "    \n",
    "    # Convert back to [0, 255] as uint8\n",
    "    img_rescaled = tf.cast(img_resized * 255.0, tf.uint8).numpy()\n",
    "    \n",
    "    return img_rescaled\n"
   ]
  },
  {
   "cell_type": "code",
   "execution_count": null,
   "metadata": {},
   "outputs": [],
   "source": [
    "from PIL import Image\n",
    "\n",
    "# Load an example image\n",
    "image = np.array(Image.open(\"example.jpg\").convert(\"RGB\"), dtype=np.uint8)\n",
    "\n",
    "# Downscale the image to a target size (e.g., 64x64)\n",
    "downscaled_image = downscale_image(image, (64, 64))\n"
   ]
  }
 ],
 "metadata": {
  "language_info": {
   "name": "python"
  }
 },
 "nbformat": 4,
 "nbformat_minor": 2
}
